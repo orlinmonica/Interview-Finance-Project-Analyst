{
 "cells": [
  {
   "cell_type": "code",
   "execution_count": 1,
   "id": "d1477fcb",
   "metadata": {},
   "outputs": [],
   "source": [
    "import operator as op"
   ]
  },
  {
   "cell_type": "markdown",
   "id": "cc1028e1",
   "metadata": {},
   "source": [
    "# Soal 2 - Python"
   ]
  },
  {
   "cell_type": "code",
   "execution_count": 9,
   "id": "cf93ba9a",
   "metadata": {},
   "outputs": [
    {
     "data": {
      "text/plain": [
       "[['Jasa Instalasi Pipa', 300000],\n",
       " ['Catering', 50000],\n",
       " ['', 85000],\n",
       " ['Jasa Kebersihan', 50000]]"
      ]
     },
     "execution_count": 9,
     "metadata": {},
     "output_type": "execute_result"
    }
   ],
   "source": [
    "dataArray = [[\"Jasa Instalasi Pipa\",300000], [\"Catering\", 50000], [\"\",85000], [\"Jasa Kebersihan\",50000]]\n",
    "dataArray"
   ]
  },
  {
   "cell_type": "code",
   "execution_count": 10,
   "id": "17d1edad",
   "metadata": {},
   "outputs": [
    {
     "data": {
      "text/plain": [
       "[['Jasa Instalasi Pipa', 300000, 6000],\n",
       " ['Catering', 50000, 250],\n",
       " ['', 85000, 0],\n",
       " ['Jasa Kebersihan', 50000, 1000]]"
      ]
     },
     "execution_count": 10,
     "metadata": {},
     "output_type": "execute_result"
    }
   ],
   "source": [
    "for i in dataArray:\n",
    "  if op.contains(i[0], \"Jasa\"):\n",
    "    i.append(int(i[1]*0.02))\n",
    "  elif op.contains(i[0], \"Catering\"):\n",
    "    i.append(int(i[1]*0.005))\n",
    "  elif i[0] == \"\":\n",
    "    i.append(0)\n",
    "\n",
    "dataArray"
   ]
  },
  {
   "cell_type": "markdown",
   "id": "a2f1b023",
   "metadata": {},
   "source": [
    "# Soal 3 - Python"
   ]
  },
  {
   "cell_type": "code",
   "execution_count": 29,
   "id": "cb7d127d",
   "metadata": {},
   "outputs": [
    {
     "name": "stdout",
     "output_type": "stream",
     "text": [
      "28 May 2024\n"
     ]
    }
   ],
   "source": [
    "import datetime\n",
    "import calendar\n",
    "\n",
    "def calculateDueDate(baselineDate, duration, holidayList):\n",
    "    dates = []\n",
    "    endDate = baselineDate + datetime.timedelta(days=duration)\n",
    "    while baselineDate <= endDate:\n",
    "        if baselineDate not in holidayList and baselineDate.weekday() < 5:\n",
    "            dates.append(baselineDate.strftime(\"%d %b %Y\"))\n",
    "        else:\n",
    "            endDate += datetime.timedelta(days=1)\n",
    "        baselineDate += datetime.timedelta(days=1)\n",
    "    \n",
    "    return dates[-1]\n",
    "\n",
    "def main():\n",
    "    baselineDate = datetime.datetime(2024, 5, 22)\n",
    "    holidayList = [datetime.datetime(2024, 5, 9), datetime.datetime(2024,\n",
    "    5, 10), datetime.datetime(2024, 5, 23)]\n",
    "    print(calculateDueDate(baselineDate,3,holidayList))\n",
    "    #return 2024-05-28 atau 28 Mei 2024\n",
    "\n",
    "if __name__ == \"__main__\":\n",
    "    main()"
   ]
  },
  {
   "cell_type": "code",
   "execution_count": null,
   "id": "47ecb81d",
   "metadata": {},
   "outputs": [],
   "source": []
  }
 ],
 "metadata": {
  "kernelspec": {
   "display_name": "Python 3",
   "language": "python",
   "name": "python3"
  },
  "language_info": {
   "codemirror_mode": {
    "name": "ipython",
    "version": 3
   },
   "file_extension": ".py",
   "mimetype": "text/x-python",
   "name": "python",
   "nbconvert_exporter": "python",
   "pygments_lexer": "ipython3",
   "version": "3.8.8"
  }
 },
 "nbformat": 4,
 "nbformat_minor": 5
}
